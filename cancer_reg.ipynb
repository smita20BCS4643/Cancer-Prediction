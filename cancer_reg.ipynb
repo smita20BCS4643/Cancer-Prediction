{
  "cells": [
    {
      "cell_type": "markdown",
      "metadata": {
        "id": "vPEH9wmxQFHC"
      },
      "source": [
        "# Multiple Regression model on cancer_reg.csv\n",
        "\n",
        "smita shinde \n",
        "UID = 20BCS4643\n",
        "class = BIT_B"
      ]
    },
    {
      "cell_type": "code",
      "execution_count": 1,
      "metadata": {
        "id": "lPg67h8eQ_bZ"
      },
      "outputs": [],
      "source": [
        "#importing essential libraries \n",
        "import pandas as pd\n",
        "import numpy as np\n",
        "from sklearn import linear_model\n",
        "import matplotlib.pyplot as plt"
      ]
    },
    {
      "cell_type": "code",
      "execution_count": 2,
      "metadata": {
        "colab": {
          "base_uri": "https://localhost:8080/",
          "height": 386
        },
        "id": "nUZeSpR9RS0L",
        "outputId": "6930cfa1-6b10-4e1a-c30b-984852c21d25"
      },
      "outputs": [
        {
          "data": {
            "text/html": [
              "<div>\n",
              "<style scoped>\n",
              "    .dataframe tbody tr th:only-of-type {\n",
              "        vertical-align: middle;\n",
              "    }\n",
              "\n",
              "    .dataframe tbody tr th {\n",
              "        vertical-align: top;\n",
              "    }\n",
              "\n",
              "    .dataframe thead th {\n",
              "        text-align: right;\n",
              "    }\n",
              "</style>\n",
              "<table border=\"1\" class=\"dataframe\">\n",
              "  <thead>\n",
              "    <tr style=\"text-align: right;\">\n",
              "      <th></th>\n",
              "      <th>avganncount</th>\n",
              "      <th>avgdeathsperyear</th>\n",
              "      <th>target_deathrate</th>\n",
              "      <th>incidencerate</th>\n",
              "      <th>medincome</th>\n",
              "      <th>popest2015</th>\n",
              "      <th>povertypercent</th>\n",
              "      <th>studypercap</th>\n",
              "      <th>binnedinc</th>\n",
              "      <th>medianage</th>\n",
              "      <th>...</th>\n",
              "      <th>pctprivatecoveragealone</th>\n",
              "      <th>pctempprivcoverage</th>\n",
              "      <th>pctpubliccoverage</th>\n",
              "      <th>pctpubliccoveragealone</th>\n",
              "      <th>pctwhite</th>\n",
              "      <th>pctblack</th>\n",
              "      <th>pctasian</th>\n",
              "      <th>pctotherrace</th>\n",
              "      <th>pctmarriedhouseholds</th>\n",
              "      <th>birthrate</th>\n",
              "    </tr>\n",
              "  </thead>\n",
              "  <tbody>\n",
              "    <tr>\n",
              "      <th>0</th>\n",
              "      <td>1397.0</td>\n",
              "      <td>469</td>\n",
              "      <td>164.9</td>\n",
              "      <td>489.8</td>\n",
              "      <td>61898</td>\n",
              "      <td>260131</td>\n",
              "      <td>11.2</td>\n",
              "      <td>499.748204</td>\n",
              "      <td>(61494.5, 125635]</td>\n",
              "      <td>39.3</td>\n",
              "      <td>...</td>\n",
              "      <td>NaN</td>\n",
              "      <td>41.6</td>\n",
              "      <td>32.9</td>\n",
              "      <td>14.0</td>\n",
              "      <td>81.780529</td>\n",
              "      <td>2.594728</td>\n",
              "      <td>4.821857</td>\n",
              "      <td>1.843479</td>\n",
              "      <td>52.856076</td>\n",
              "      <td>6.118831</td>\n",
              "    </tr>\n",
              "    <tr>\n",
              "      <th>1</th>\n",
              "      <td>173.0</td>\n",
              "      <td>70</td>\n",
              "      <td>161.3</td>\n",
              "      <td>411.6</td>\n",
              "      <td>48127</td>\n",
              "      <td>43269</td>\n",
              "      <td>18.6</td>\n",
              "      <td>23.111234</td>\n",
              "      <td>(48021.6, 51046.4]</td>\n",
              "      <td>33.0</td>\n",
              "      <td>...</td>\n",
              "      <td>53.8</td>\n",
              "      <td>43.6</td>\n",
              "      <td>31.1</td>\n",
              "      <td>15.3</td>\n",
              "      <td>89.228509</td>\n",
              "      <td>0.969102</td>\n",
              "      <td>2.246233</td>\n",
              "      <td>3.741352</td>\n",
              "      <td>45.372500</td>\n",
              "      <td>4.333096</td>\n",
              "    </tr>\n",
              "    <tr>\n",
              "      <th>2</th>\n",
              "      <td>102.0</td>\n",
              "      <td>50</td>\n",
              "      <td>174.7</td>\n",
              "      <td>349.7</td>\n",
              "      <td>49348</td>\n",
              "      <td>21026</td>\n",
              "      <td>14.6</td>\n",
              "      <td>47.560164</td>\n",
              "      <td>(48021.6, 51046.4]</td>\n",
              "      <td>45.0</td>\n",
              "      <td>...</td>\n",
              "      <td>43.5</td>\n",
              "      <td>34.9</td>\n",
              "      <td>42.1</td>\n",
              "      <td>21.1</td>\n",
              "      <td>90.922190</td>\n",
              "      <td>0.739673</td>\n",
              "      <td>0.465898</td>\n",
              "      <td>2.747358</td>\n",
              "      <td>54.444868</td>\n",
              "      <td>3.729488</td>\n",
              "    </tr>\n",
              "    <tr>\n",
              "      <th>3</th>\n",
              "      <td>427.0</td>\n",
              "      <td>202</td>\n",
              "      <td>194.8</td>\n",
              "      <td>430.4</td>\n",
              "      <td>44243</td>\n",
              "      <td>75882</td>\n",
              "      <td>17.1</td>\n",
              "      <td>342.637253</td>\n",
              "      <td>(42724.4, 45201]</td>\n",
              "      <td>42.8</td>\n",
              "      <td>...</td>\n",
              "      <td>40.3</td>\n",
              "      <td>35.0</td>\n",
              "      <td>45.3</td>\n",
              "      <td>25.0</td>\n",
              "      <td>91.744686</td>\n",
              "      <td>0.782626</td>\n",
              "      <td>1.161359</td>\n",
              "      <td>1.362643</td>\n",
              "      <td>51.021514</td>\n",
              "      <td>4.603841</td>\n",
              "    </tr>\n",
              "    <tr>\n",
              "      <th>4</th>\n",
              "      <td>57.0</td>\n",
              "      <td>26</td>\n",
              "      <td>144.4</td>\n",
              "      <td>350.1</td>\n",
              "      <td>49955</td>\n",
              "      <td>10321</td>\n",
              "      <td>12.5</td>\n",
              "      <td>0.000000</td>\n",
              "      <td>(48021.6, 51046.4]</td>\n",
              "      <td>48.3</td>\n",
              "      <td>...</td>\n",
              "      <td>43.9</td>\n",
              "      <td>35.1</td>\n",
              "      <td>44.0</td>\n",
              "      <td>22.7</td>\n",
              "      <td>94.104024</td>\n",
              "      <td>0.270192</td>\n",
              "      <td>0.665830</td>\n",
              "      <td>0.492135</td>\n",
              "      <td>54.027460</td>\n",
              "      <td>6.796657</td>\n",
              "    </tr>\n",
              "  </tbody>\n",
              "</table>\n",
              "<p>5 rows × 33 columns</p>\n",
              "</div>"
            ],
            "text/plain": [
              "   avganncount  avgdeathsperyear  target_deathrate  incidencerate  medincome  \\\n",
              "0       1397.0               469             164.9          489.8      61898   \n",
              "1        173.0                70             161.3          411.6      48127   \n",
              "2        102.0                50             174.7          349.7      49348   \n",
              "3        427.0               202             194.8          430.4      44243   \n",
              "4         57.0                26             144.4          350.1      49955   \n",
              "\n",
              "   popest2015  povertypercent  studypercap           binnedinc  medianage  \\\n",
              "0      260131            11.2   499.748204   (61494.5, 125635]       39.3   \n",
              "1       43269            18.6    23.111234  (48021.6, 51046.4]       33.0   \n",
              "2       21026            14.6    47.560164  (48021.6, 51046.4]       45.0   \n",
              "3       75882            17.1   342.637253    (42724.4, 45201]       42.8   \n",
              "4       10321            12.5     0.000000  (48021.6, 51046.4]       48.3   \n",
              "\n",
              "   ...  pctprivatecoveragealone  pctempprivcoverage pctpubliccoverage  \\\n",
              "0  ...                      NaN                41.6              32.9   \n",
              "1  ...                     53.8                43.6              31.1   \n",
              "2  ...                     43.5                34.9              42.1   \n",
              "3  ...                     40.3                35.0              45.3   \n",
              "4  ...                     43.9                35.1              44.0   \n",
              "\n",
              "   pctpubliccoveragealone   pctwhite  pctblack  pctasian  pctotherrace  \\\n",
              "0                    14.0  81.780529  2.594728  4.821857      1.843479   \n",
              "1                    15.3  89.228509  0.969102  2.246233      3.741352   \n",
              "2                    21.1  90.922190  0.739673  0.465898      2.747358   \n",
              "3                    25.0  91.744686  0.782626  1.161359      1.362643   \n",
              "4                    22.7  94.104024  0.270192  0.665830      0.492135   \n",
              "\n",
              "   pctmarriedhouseholds  birthrate  \n",
              "0             52.856076   6.118831  \n",
              "1             45.372500   4.333096  \n",
              "2             54.444868   3.729488  \n",
              "3             51.021514   4.603841  \n",
              "4             54.027460   6.796657  \n",
              "\n",
              "[5 rows x 33 columns]"
            ]
          },
          "execution_count": 2,
          "metadata": {},
          "output_type": "execute_result"
        }
      ],
      "source": [
        "#reading the data of csv file\n",
        "df = pd.read_csv('cancer_reg.csv')\n",
        "df.head()\n"
      ]
    },
    {
      "cell_type": "code",
      "execution_count": 3,
      "metadata": {
        "colab": {
          "base_uri": "https://localhost:8080/"
        },
        "id": "Uw-8GVDnRdLF",
        "outputId": "e3b6ef60-72f0-41a2-c6bc-8aec1bec2e86"
      },
      "outputs": [
        {
          "data": {
            "text/plain": [
              "avganncount                   0\n",
              "avgdeathsperyear              0\n",
              "target_deathrate              0\n",
              "incidencerate                 0\n",
              "medincome                     0\n",
              "popest2015                    0\n",
              "povertypercent                0\n",
              "studypercap                   0\n",
              "binnedinc                     0\n",
              "medianage                     0\n",
              "medianagemale                 0\n",
              "medianagefemale               0\n",
              "geography                     0\n",
              "percentmarried                0\n",
              "pctnohs18_24                  0\n",
              "pcths18_24                    0\n",
              "pctsomecol18_24            2285\n",
              "pctbachdeg18_24               0\n",
              "pcths25_over                  0\n",
              "pctbachdeg25_over             0\n",
              "pctemployed16_over          152\n",
              "pctunemployed16_over          0\n",
              "pctprivatecoverage            0\n",
              "pctprivatecoveragealone     609\n",
              "pctempprivcoverage            0\n",
              "pctpubliccoverage             0\n",
              "pctpubliccoveragealone        0\n",
              "pctwhite                      0\n",
              "pctblack                      0\n",
              "pctasian                      0\n",
              "pctotherrace                  0\n",
              "pctmarriedhouseholds          0\n",
              "birthrate                     0\n",
              "dtype: int64"
            ]
          },
          "execution_count": 3,
          "metadata": {},
          "output_type": "execute_result"
        }
      ],
      "source": [
        "# Checking the missing values\n",
        "df.isnull().sum()"
      ]
    },
    {
      "cell_type": "markdown",
      "metadata": {
        "id": "VCk3jI7BRk9l"
      },
      "source": [
        "In the above cell  you can see some NAN values in the test score column to remove them. We will calculate the median of the pctsomecol18_24 column and change the NAN values to the median value of pctsomecol18_24 column."
      ]
    },
    {
      "cell_type": "code",
      "execution_count": 4,
      "metadata": {
        "colab": {
          "base_uri": "https://localhost:8080/"
        },
        "id": "glUzM3jRRqzn",
        "outputId": "9b91c383-e2c1-407e-c10b-5e031214bc09"
      },
      "outputs": [
        {
          "data": {
            "text/plain": [
              "40.4"
            ]
          },
          "execution_count": 4,
          "metadata": {},
          "output_type": "execute_result"
        }
      ],
      "source": [
        "#here calculating the median of pctsomecol18_24   \n",
        "df.pctsomecol18_24 .median()"
      ]
    },
    {
      "cell_type": "code",
      "execution_count": 5,
      "metadata": {
        "colab": {
          "base_uri": "https://localhost:8080/",
          "height": 386
        },
        "id": "N5_SLf5JR4aA",
        "outputId": "b7af732a-fce5-4ed3-f918-6162a0fab052"
      },
      "outputs": [
        {
          "data": {
            "text/html": [
              "<div>\n",
              "<style scoped>\n",
              "    .dataframe tbody tr th:only-of-type {\n",
              "        vertical-align: middle;\n",
              "    }\n",
              "\n",
              "    .dataframe tbody tr th {\n",
              "        vertical-align: top;\n",
              "    }\n",
              "\n",
              "    .dataframe thead th {\n",
              "        text-align: right;\n",
              "    }\n",
              "</style>\n",
              "<table border=\"1\" class=\"dataframe\">\n",
              "  <thead>\n",
              "    <tr style=\"text-align: right;\">\n",
              "      <th></th>\n",
              "      <th>avganncount</th>\n",
              "      <th>avgdeathsperyear</th>\n",
              "      <th>target_deathrate</th>\n",
              "      <th>incidencerate</th>\n",
              "      <th>medincome</th>\n",
              "      <th>popest2015</th>\n",
              "      <th>povertypercent</th>\n",
              "      <th>studypercap</th>\n",
              "      <th>binnedinc</th>\n",
              "      <th>medianage</th>\n",
              "      <th>...</th>\n",
              "      <th>pctprivatecoveragealone</th>\n",
              "      <th>pctempprivcoverage</th>\n",
              "      <th>pctpubliccoverage</th>\n",
              "      <th>pctpubliccoveragealone</th>\n",
              "      <th>pctwhite</th>\n",
              "      <th>pctblack</th>\n",
              "      <th>pctasian</th>\n",
              "      <th>pctotherrace</th>\n",
              "      <th>pctmarriedhouseholds</th>\n",
              "      <th>birthrate</th>\n",
              "    </tr>\n",
              "  </thead>\n",
              "  <tbody>\n",
              "    <tr>\n",
              "      <th>0</th>\n",
              "      <td>1397.0</td>\n",
              "      <td>469</td>\n",
              "      <td>164.9</td>\n",
              "      <td>489.8</td>\n",
              "      <td>61898</td>\n",
              "      <td>260131</td>\n",
              "      <td>11.2</td>\n",
              "      <td>499.748204</td>\n",
              "      <td>(61494.5, 125635]</td>\n",
              "      <td>39.3</td>\n",
              "      <td>...</td>\n",
              "      <td>NaN</td>\n",
              "      <td>41.6</td>\n",
              "      <td>32.9</td>\n",
              "      <td>14.0</td>\n",
              "      <td>81.780529</td>\n",
              "      <td>2.594728</td>\n",
              "      <td>4.821857</td>\n",
              "      <td>1.843479</td>\n",
              "      <td>52.856076</td>\n",
              "      <td>6.118831</td>\n",
              "    </tr>\n",
              "    <tr>\n",
              "      <th>1</th>\n",
              "      <td>173.0</td>\n",
              "      <td>70</td>\n",
              "      <td>161.3</td>\n",
              "      <td>411.6</td>\n",
              "      <td>48127</td>\n",
              "      <td>43269</td>\n",
              "      <td>18.6</td>\n",
              "      <td>23.111234</td>\n",
              "      <td>(48021.6, 51046.4]</td>\n",
              "      <td>33.0</td>\n",
              "      <td>...</td>\n",
              "      <td>53.8</td>\n",
              "      <td>43.6</td>\n",
              "      <td>31.1</td>\n",
              "      <td>15.3</td>\n",
              "      <td>89.228509</td>\n",
              "      <td>0.969102</td>\n",
              "      <td>2.246233</td>\n",
              "      <td>3.741352</td>\n",
              "      <td>45.372500</td>\n",
              "      <td>4.333096</td>\n",
              "    </tr>\n",
              "    <tr>\n",
              "      <th>2</th>\n",
              "      <td>102.0</td>\n",
              "      <td>50</td>\n",
              "      <td>174.7</td>\n",
              "      <td>349.7</td>\n",
              "      <td>49348</td>\n",
              "      <td>21026</td>\n",
              "      <td>14.6</td>\n",
              "      <td>47.560164</td>\n",
              "      <td>(48021.6, 51046.4]</td>\n",
              "      <td>45.0</td>\n",
              "      <td>...</td>\n",
              "      <td>43.5</td>\n",
              "      <td>34.9</td>\n",
              "      <td>42.1</td>\n",
              "      <td>21.1</td>\n",
              "      <td>90.922190</td>\n",
              "      <td>0.739673</td>\n",
              "      <td>0.465898</td>\n",
              "      <td>2.747358</td>\n",
              "      <td>54.444868</td>\n",
              "      <td>3.729488</td>\n",
              "    </tr>\n",
              "    <tr>\n",
              "      <th>3</th>\n",
              "      <td>427.0</td>\n",
              "      <td>202</td>\n",
              "      <td>194.8</td>\n",
              "      <td>430.4</td>\n",
              "      <td>44243</td>\n",
              "      <td>75882</td>\n",
              "      <td>17.1</td>\n",
              "      <td>342.637253</td>\n",
              "      <td>(42724.4, 45201]</td>\n",
              "      <td>42.8</td>\n",
              "      <td>...</td>\n",
              "      <td>40.3</td>\n",
              "      <td>35.0</td>\n",
              "      <td>45.3</td>\n",
              "      <td>25.0</td>\n",
              "      <td>91.744686</td>\n",
              "      <td>0.782626</td>\n",
              "      <td>1.161359</td>\n",
              "      <td>1.362643</td>\n",
              "      <td>51.021514</td>\n",
              "      <td>4.603841</td>\n",
              "    </tr>\n",
              "    <tr>\n",
              "      <th>4</th>\n",
              "      <td>57.0</td>\n",
              "      <td>26</td>\n",
              "      <td>144.4</td>\n",
              "      <td>350.1</td>\n",
              "      <td>49955</td>\n",
              "      <td>10321</td>\n",
              "      <td>12.5</td>\n",
              "      <td>0.000000</td>\n",
              "      <td>(48021.6, 51046.4]</td>\n",
              "      <td>48.3</td>\n",
              "      <td>...</td>\n",
              "      <td>43.9</td>\n",
              "      <td>35.1</td>\n",
              "      <td>44.0</td>\n",
              "      <td>22.7</td>\n",
              "      <td>94.104024</td>\n",
              "      <td>0.270192</td>\n",
              "      <td>0.665830</td>\n",
              "      <td>0.492135</td>\n",
              "      <td>54.027460</td>\n",
              "      <td>6.796657</td>\n",
              "    </tr>\n",
              "  </tbody>\n",
              "</table>\n",
              "<p>5 rows × 33 columns</p>\n",
              "</div>"
            ],
            "text/plain": [
              "   avganncount  avgdeathsperyear  target_deathrate  incidencerate  medincome  \\\n",
              "0       1397.0               469             164.9          489.8      61898   \n",
              "1        173.0                70             161.3          411.6      48127   \n",
              "2        102.0                50             174.7          349.7      49348   \n",
              "3        427.0               202             194.8          430.4      44243   \n",
              "4         57.0                26             144.4          350.1      49955   \n",
              "\n",
              "   popest2015  povertypercent  studypercap           binnedinc  medianage  \\\n",
              "0      260131            11.2   499.748204   (61494.5, 125635]       39.3   \n",
              "1       43269            18.6    23.111234  (48021.6, 51046.4]       33.0   \n",
              "2       21026            14.6    47.560164  (48021.6, 51046.4]       45.0   \n",
              "3       75882            17.1   342.637253    (42724.4, 45201]       42.8   \n",
              "4       10321            12.5     0.000000  (48021.6, 51046.4]       48.3   \n",
              "\n",
              "   ...  pctprivatecoveragealone  pctempprivcoverage pctpubliccoverage  \\\n",
              "0  ...                      NaN                41.6              32.9   \n",
              "1  ...                     53.8                43.6              31.1   \n",
              "2  ...                     43.5                34.9              42.1   \n",
              "3  ...                     40.3                35.0              45.3   \n",
              "4  ...                     43.9                35.1              44.0   \n",
              "\n",
              "   pctpubliccoveragealone   pctwhite  pctblack  pctasian  pctotherrace  \\\n",
              "0                    14.0  81.780529  2.594728  4.821857      1.843479   \n",
              "1                    15.3  89.228509  0.969102  2.246233      3.741352   \n",
              "2                    21.1  90.922190  0.739673  0.465898      2.747358   \n",
              "3                    25.0  91.744686  0.782626  1.161359      1.362643   \n",
              "4                    22.7  94.104024  0.270192  0.665830      0.492135   \n",
              "\n",
              "   pctmarriedhouseholds  birthrate  \n",
              "0             52.856076   6.118831  \n",
              "1             45.372500   4.333096  \n",
              "2             54.444868   3.729488  \n",
              "3             51.021514   4.603841  \n",
              "4             54.027460   6.796657  \n",
              "\n",
              "[5 rows x 33 columns]"
            ]
          },
          "execution_count": 5,
          "metadata": {},
          "output_type": "execute_result"
        }
      ],
      "source": [
        "#filling the NAN values \n",
        "df.pctsomecol18_24   = df.pctsomecol18_24  .fillna(df.pctsomecol18_24 .median())\n",
        "df.head()"
      ]
    },
    {
      "cell_type": "code",
      "execution_count": 6,
      "metadata": {
        "colab": {
          "base_uri": "https://localhost:8080/"
        },
        "id": "RNJ4cBxOSTDb",
        "outputId": "aa12390f-6d90-438b-eddd-08e9c96a37e9"
      },
      "outputs": [
        {
          "data": {
            "text/plain": [
              "avganncount                  0\n",
              "avgdeathsperyear             0\n",
              "target_deathrate             0\n",
              "incidencerate                0\n",
              "medincome                    0\n",
              "popest2015                   0\n",
              "povertypercent               0\n",
              "studypercap                  0\n",
              "binnedinc                    0\n",
              "medianage                    0\n",
              "medianagemale                0\n",
              "medianagefemale              0\n",
              "geography                    0\n",
              "percentmarried               0\n",
              "pctnohs18_24                 0\n",
              "pcths18_24                   0\n",
              "pctsomecol18_24              0\n",
              "pctbachdeg18_24              0\n",
              "pcths25_over                 0\n",
              "pctbachdeg25_over            0\n",
              "pctemployed16_over         152\n",
              "pctunemployed16_over         0\n",
              "pctprivatecoverage           0\n",
              "pctprivatecoveragealone    609\n",
              "pctempprivcoverage           0\n",
              "pctpubliccoverage            0\n",
              "pctpubliccoveragealone       0\n",
              "pctwhite                     0\n",
              "pctblack                     0\n",
              "pctasian                     0\n",
              "pctotherrace                 0\n",
              "pctmarriedhouseholds         0\n",
              "birthrate                    0\n",
              "dtype: int64"
            ]
          },
          "execution_count": 6,
          "metadata": {},
          "output_type": "execute_result"
        }
      ],
      "source": [
        "# Checking the missing values\n",
        "df.isnull().sum()"
      ]
    },
    {
      "cell_type": "code",
      "execution_count": 7,
      "metadata": {
        "colab": {
          "base_uri": "https://localhost:8080/"
        },
        "id": "J2ZlPaeFSbDW",
        "outputId": "c1c7008a-bad0-496c-f288-90a3ec69a3a5"
      },
      "outputs": [
        {
          "data": {
            "text/plain": [
              "54.5"
            ]
          },
          "execution_count": 7,
          "metadata": {},
          "output_type": "execute_result"
        }
      ],
      "source": [
        "#here calculating the median of pctemployed16_over\n",
        "df.pctemployed16_over.median()"
      ]
    },
    {
      "cell_type": "code",
      "execution_count": 8,
      "metadata": {
        "colab": {
          "base_uri": "https://localhost:8080/",
          "height": 661
        },
        "id": "BB8jQ0YgS7rj",
        "outputId": "2cbad9c6-b742-4be8-dcb7-dce757abf898"
      },
      "outputs": [
        {
          "data": {
            "text/html": [
              "<div>\n",
              "<style scoped>\n",
              "    .dataframe tbody tr th:only-of-type {\n",
              "        vertical-align: middle;\n",
              "    }\n",
              "\n",
              "    .dataframe tbody tr th {\n",
              "        vertical-align: top;\n",
              "    }\n",
              "\n",
              "    .dataframe thead th {\n",
              "        text-align: right;\n",
              "    }\n",
              "</style>\n",
              "<table border=\"1\" class=\"dataframe\">\n",
              "  <thead>\n",
              "    <tr style=\"text-align: right;\">\n",
              "      <th></th>\n",
              "      <th>avganncount</th>\n",
              "      <th>avgdeathsperyear</th>\n",
              "      <th>target_deathrate</th>\n",
              "      <th>incidencerate</th>\n",
              "      <th>medincome</th>\n",
              "      <th>popest2015</th>\n",
              "      <th>povertypercent</th>\n",
              "      <th>studypercap</th>\n",
              "      <th>binnedinc</th>\n",
              "      <th>medianage</th>\n",
              "      <th>...</th>\n",
              "      <th>pctprivatecoveragealone</th>\n",
              "      <th>pctempprivcoverage</th>\n",
              "      <th>pctpubliccoverage</th>\n",
              "      <th>pctpubliccoveragealone</th>\n",
              "      <th>pctwhite</th>\n",
              "      <th>pctblack</th>\n",
              "      <th>pctasian</th>\n",
              "      <th>pctotherrace</th>\n",
              "      <th>pctmarriedhouseholds</th>\n",
              "      <th>birthrate</th>\n",
              "    </tr>\n",
              "  </thead>\n",
              "  <tbody>\n",
              "    <tr>\n",
              "      <th>0</th>\n",
              "      <td>1397.000000</td>\n",
              "      <td>469</td>\n",
              "      <td>164.9</td>\n",
              "      <td>489.800000</td>\n",
              "      <td>61898</td>\n",
              "      <td>260131</td>\n",
              "      <td>11.2</td>\n",
              "      <td>499.748204</td>\n",
              "      <td>(61494.5, 125635]</td>\n",
              "      <td>39.3</td>\n",
              "      <td>...</td>\n",
              "      <td>NaN</td>\n",
              "      <td>41.6</td>\n",
              "      <td>32.9</td>\n",
              "      <td>14.0</td>\n",
              "      <td>81.780529</td>\n",
              "      <td>2.594728</td>\n",
              "      <td>4.821857</td>\n",
              "      <td>1.843479</td>\n",
              "      <td>52.856076</td>\n",
              "      <td>6.118831</td>\n",
              "    </tr>\n",
              "    <tr>\n",
              "      <th>1</th>\n",
              "      <td>173.000000</td>\n",
              "      <td>70</td>\n",
              "      <td>161.3</td>\n",
              "      <td>411.600000</td>\n",
              "      <td>48127</td>\n",
              "      <td>43269</td>\n",
              "      <td>18.6</td>\n",
              "      <td>23.111234</td>\n",
              "      <td>(48021.6, 51046.4]</td>\n",
              "      <td>33.0</td>\n",
              "      <td>...</td>\n",
              "      <td>53.8</td>\n",
              "      <td>43.6</td>\n",
              "      <td>31.1</td>\n",
              "      <td>15.3</td>\n",
              "      <td>89.228509</td>\n",
              "      <td>0.969102</td>\n",
              "      <td>2.246233</td>\n",
              "      <td>3.741352</td>\n",
              "      <td>45.372500</td>\n",
              "      <td>4.333096</td>\n",
              "    </tr>\n",
              "    <tr>\n",
              "      <th>2</th>\n",
              "      <td>102.000000</td>\n",
              "      <td>50</td>\n",
              "      <td>174.7</td>\n",
              "      <td>349.700000</td>\n",
              "      <td>49348</td>\n",
              "      <td>21026</td>\n",
              "      <td>14.6</td>\n",
              "      <td>47.560164</td>\n",
              "      <td>(48021.6, 51046.4]</td>\n",
              "      <td>45.0</td>\n",
              "      <td>...</td>\n",
              "      <td>43.5</td>\n",
              "      <td>34.9</td>\n",
              "      <td>42.1</td>\n",
              "      <td>21.1</td>\n",
              "      <td>90.922190</td>\n",
              "      <td>0.739673</td>\n",
              "      <td>0.465898</td>\n",
              "      <td>2.747358</td>\n",
              "      <td>54.444868</td>\n",
              "      <td>3.729488</td>\n",
              "    </tr>\n",
              "    <tr>\n",
              "      <th>3</th>\n",
              "      <td>427.000000</td>\n",
              "      <td>202</td>\n",
              "      <td>194.8</td>\n",
              "      <td>430.400000</td>\n",
              "      <td>44243</td>\n",
              "      <td>75882</td>\n",
              "      <td>17.1</td>\n",
              "      <td>342.637253</td>\n",
              "      <td>(42724.4, 45201]</td>\n",
              "      <td>42.8</td>\n",
              "      <td>...</td>\n",
              "      <td>40.3</td>\n",
              "      <td>35.0</td>\n",
              "      <td>45.3</td>\n",
              "      <td>25.0</td>\n",
              "      <td>91.744686</td>\n",
              "      <td>0.782626</td>\n",
              "      <td>1.161359</td>\n",
              "      <td>1.362643</td>\n",
              "      <td>51.021514</td>\n",
              "      <td>4.603841</td>\n",
              "    </tr>\n",
              "    <tr>\n",
              "      <th>4</th>\n",
              "      <td>57.000000</td>\n",
              "      <td>26</td>\n",
              "      <td>144.4</td>\n",
              "      <td>350.100000</td>\n",
              "      <td>49955</td>\n",
              "      <td>10321</td>\n",
              "      <td>12.5</td>\n",
              "      <td>0.000000</td>\n",
              "      <td>(48021.6, 51046.4]</td>\n",
              "      <td>48.3</td>\n",
              "      <td>...</td>\n",
              "      <td>43.9</td>\n",
              "      <td>35.1</td>\n",
              "      <td>44.0</td>\n",
              "      <td>22.7</td>\n",
              "      <td>94.104024</td>\n",
              "      <td>0.270192</td>\n",
              "      <td>0.665830</td>\n",
              "      <td>0.492135</td>\n",
              "      <td>54.027460</td>\n",
              "      <td>6.796657</td>\n",
              "    </tr>\n",
              "    <tr>\n",
              "      <th>...</th>\n",
              "      <td>...</td>\n",
              "      <td>...</td>\n",
              "      <td>...</td>\n",
              "      <td>...</td>\n",
              "      <td>...</td>\n",
              "      <td>...</td>\n",
              "      <td>...</td>\n",
              "      <td>...</td>\n",
              "      <td>...</td>\n",
              "      <td>...</td>\n",
              "      <td>...</td>\n",
              "      <td>...</td>\n",
              "      <td>...</td>\n",
              "      <td>...</td>\n",
              "      <td>...</td>\n",
              "      <td>...</td>\n",
              "      <td>...</td>\n",
              "      <td>...</td>\n",
              "      <td>...</td>\n",
              "      <td>...</td>\n",
              "      <td>...</td>\n",
              "    </tr>\n",
              "    <tr>\n",
              "      <th>3042</th>\n",
              "      <td>1962.667684</td>\n",
              "      <td>15</td>\n",
              "      <td>149.6</td>\n",
              "      <td>453.549422</td>\n",
              "      <td>46961</td>\n",
              "      <td>6343</td>\n",
              "      <td>12.4</td>\n",
              "      <td>0.000000</td>\n",
              "      <td>(45201, 48021.6]</td>\n",
              "      <td>44.2</td>\n",
              "      <td>...</td>\n",
              "      <td>54.9</td>\n",
              "      <td>44.6</td>\n",
              "      <td>31.7</td>\n",
              "      <td>13.2</td>\n",
              "      <td>90.280811</td>\n",
              "      <td>3.837754</td>\n",
              "      <td>0.327613</td>\n",
              "      <td>1.700468</td>\n",
              "      <td>51.063830</td>\n",
              "      <td>7.773512</td>\n",
              "    </tr>\n",
              "    <tr>\n",
              "      <th>3043</th>\n",
              "      <td>1962.667684</td>\n",
              "      <td>43</td>\n",
              "      <td>150.1</td>\n",
              "      <td>453.549422</td>\n",
              "      <td>48609</td>\n",
              "      <td>37118</td>\n",
              "      <td>18.8</td>\n",
              "      <td>377.175494</td>\n",
              "      <td>(48021.6, 51046.4]</td>\n",
              "      <td>30.4</td>\n",
              "      <td>...</td>\n",
              "      <td>53.3</td>\n",
              "      <td>48.6</td>\n",
              "      <td>28.8</td>\n",
              "      <td>17.7</td>\n",
              "      <td>75.706245</td>\n",
              "      <td>2.326771</td>\n",
              "      <td>4.044920</td>\n",
              "      <td>14.130288</td>\n",
              "      <td>52.007937</td>\n",
              "      <td>8.186470</td>\n",
              "    </tr>\n",
              "    <tr>\n",
              "      <th>3044</th>\n",
              "      <td>1962.667684</td>\n",
              "      <td>46</td>\n",
              "      <td>153.9</td>\n",
              "      <td>453.549422</td>\n",
              "      <td>51144</td>\n",
              "      <td>34536</td>\n",
              "      <td>15.0</td>\n",
              "      <td>1968.959926</td>\n",
              "      <td>(51046.4, 54545.6]</td>\n",
              "      <td>30.9</td>\n",
              "      <td>...</td>\n",
              "      <td>52.6</td>\n",
              "      <td>47.8</td>\n",
              "      <td>26.6</td>\n",
              "      <td>16.8</td>\n",
              "      <td>87.961629</td>\n",
              "      <td>2.313188</td>\n",
              "      <td>1.316472</td>\n",
              "      <td>5.680705</td>\n",
              "      <td>55.153949</td>\n",
              "      <td>7.809192</td>\n",
              "    </tr>\n",
              "    <tr>\n",
              "      <th>3045</th>\n",
              "      <td>1962.667684</td>\n",
              "      <td>52</td>\n",
              "      <td>175.0</td>\n",
              "      <td>453.549422</td>\n",
              "      <td>50745</td>\n",
              "      <td>25609</td>\n",
              "      <td>13.3</td>\n",
              "      <td>0.000000</td>\n",
              "      <td>(48021.6, 51046.4]</td>\n",
              "      <td>39.0</td>\n",
              "      <td>...</td>\n",
              "      <td>56.3</td>\n",
              "      <td>49.6</td>\n",
              "      <td>29.5</td>\n",
              "      <td>14.0</td>\n",
              "      <td>92.905681</td>\n",
              "      <td>1.176562</td>\n",
              "      <td>0.244632</td>\n",
              "      <td>2.131790</td>\n",
              "      <td>58.484232</td>\n",
              "      <td>7.582938</td>\n",
              "    </tr>\n",
              "    <tr>\n",
              "      <th>3046</th>\n",
              "      <td>1962.667684</td>\n",
              "      <td>48</td>\n",
              "      <td>213.6</td>\n",
              "      <td>453.549422</td>\n",
              "      <td>41193</td>\n",
              "      <td>37030</td>\n",
              "      <td>13.9</td>\n",
              "      <td>0.000000</td>\n",
              "      <td>(40362.7, 42724.4]</td>\n",
              "      <td>26.2</td>\n",
              "      <td>...</td>\n",
              "      <td>60.3</td>\n",
              "      <td>22.9</td>\n",
              "      <td>25.1</td>\n",
              "      <td>12.6</td>\n",
              "      <td>70.098132</td>\n",
              "      <td>16.590100</td>\n",
              "      <td>3.177753</td>\n",
              "      <td>1.356457</td>\n",
              "      <td>56.040242</td>\n",
              "      <td>8.981723</td>\n",
              "    </tr>\n",
              "  </tbody>\n",
              "</table>\n",
              "<p>3047 rows × 33 columns</p>\n",
              "</div>"
            ],
            "text/plain": [
              "      avganncount  avgdeathsperyear  target_deathrate  incidencerate  \\\n",
              "0     1397.000000               469             164.9     489.800000   \n",
              "1      173.000000                70             161.3     411.600000   \n",
              "2      102.000000                50             174.7     349.700000   \n",
              "3      427.000000               202             194.8     430.400000   \n",
              "4       57.000000                26             144.4     350.100000   \n",
              "...           ...               ...               ...            ...   \n",
              "3042  1962.667684                15             149.6     453.549422   \n",
              "3043  1962.667684                43             150.1     453.549422   \n",
              "3044  1962.667684                46             153.9     453.549422   \n",
              "3045  1962.667684                52             175.0     453.549422   \n",
              "3046  1962.667684                48             213.6     453.549422   \n",
              "\n",
              "      medincome  popest2015  povertypercent  studypercap           binnedinc  \\\n",
              "0         61898      260131            11.2   499.748204   (61494.5, 125635]   \n",
              "1         48127       43269            18.6    23.111234  (48021.6, 51046.4]   \n",
              "2         49348       21026            14.6    47.560164  (48021.6, 51046.4]   \n",
              "3         44243       75882            17.1   342.637253    (42724.4, 45201]   \n",
              "4         49955       10321            12.5     0.000000  (48021.6, 51046.4]   \n",
              "...         ...         ...             ...          ...                 ...   \n",
              "3042      46961        6343            12.4     0.000000    (45201, 48021.6]   \n",
              "3043      48609       37118            18.8   377.175494  (48021.6, 51046.4]   \n",
              "3044      51144       34536            15.0  1968.959926  (51046.4, 54545.6]   \n",
              "3045      50745       25609            13.3     0.000000  (48021.6, 51046.4]   \n",
              "3046      41193       37030            13.9     0.000000  (40362.7, 42724.4]   \n",
              "\n",
              "      medianage  ...  pctprivatecoveragealone  pctempprivcoverage  \\\n",
              "0          39.3  ...                      NaN                41.6   \n",
              "1          33.0  ...                     53.8                43.6   \n",
              "2          45.0  ...                     43.5                34.9   \n",
              "3          42.8  ...                     40.3                35.0   \n",
              "4          48.3  ...                     43.9                35.1   \n",
              "...         ...  ...                      ...                 ...   \n",
              "3042       44.2  ...                     54.9                44.6   \n",
              "3043       30.4  ...                     53.3                48.6   \n",
              "3044       30.9  ...                     52.6                47.8   \n",
              "3045       39.0  ...                     56.3                49.6   \n",
              "3046       26.2  ...                     60.3                22.9   \n",
              "\n",
              "     pctpubliccoverage  pctpubliccoveragealone   pctwhite   pctblack  \\\n",
              "0                 32.9                    14.0  81.780529   2.594728   \n",
              "1                 31.1                    15.3  89.228509   0.969102   \n",
              "2                 42.1                    21.1  90.922190   0.739673   \n",
              "3                 45.3                    25.0  91.744686   0.782626   \n",
              "4                 44.0                    22.7  94.104024   0.270192   \n",
              "...                ...                     ...        ...        ...   \n",
              "3042              31.7                    13.2  90.280811   3.837754   \n",
              "3043              28.8                    17.7  75.706245   2.326771   \n",
              "3044              26.6                    16.8  87.961629   2.313188   \n",
              "3045              29.5                    14.0  92.905681   1.176562   \n",
              "3046              25.1                    12.6  70.098132  16.590100   \n",
              "\n",
              "      pctasian  pctotherrace  pctmarriedhouseholds  birthrate  \n",
              "0     4.821857      1.843479             52.856076   6.118831  \n",
              "1     2.246233      3.741352             45.372500   4.333096  \n",
              "2     0.465898      2.747358             54.444868   3.729488  \n",
              "3     1.161359      1.362643             51.021514   4.603841  \n",
              "4     0.665830      0.492135             54.027460   6.796657  \n",
              "...        ...           ...                   ...        ...  \n",
              "3042  0.327613      1.700468             51.063830   7.773512  \n",
              "3043  4.044920     14.130288             52.007937   8.186470  \n",
              "3044  1.316472      5.680705             55.153949   7.809192  \n",
              "3045  0.244632      2.131790             58.484232   7.582938  \n",
              "3046  3.177753      1.356457             56.040242   8.981723  \n",
              "\n",
              "[3047 rows x 33 columns]"
            ]
          },
          "execution_count": 8,
          "metadata": {},
          "output_type": "execute_result"
        }
      ],
      "source": [
        "#filling the NAN values \n",
        "df.pctemployed16_over   = df.pctemployed16_over  .fillna(df.pctemployed16_over .median())\n",
        "df"
      ]
    },
    {
      "cell_type": "code",
      "execution_count": 9,
      "metadata": {
        "colab": {
          "base_uri": "https://localhost:8080/"
        },
        "id": "NJ-Zew75TGAi",
        "outputId": "dc67a646-062f-45a4-d985-8a7b07fc9862"
      },
      "outputs": [
        {
          "data": {
            "text/plain": [
              "avganncount                  0\n",
              "avgdeathsperyear             0\n",
              "target_deathrate             0\n",
              "incidencerate                0\n",
              "medincome                    0\n",
              "popest2015                   0\n",
              "povertypercent               0\n",
              "studypercap                  0\n",
              "binnedinc                    0\n",
              "medianage                    0\n",
              "medianagemale                0\n",
              "medianagefemale              0\n",
              "geography                    0\n",
              "percentmarried               0\n",
              "pctnohs18_24                 0\n",
              "pcths18_24                   0\n",
              "pctsomecol18_24              0\n",
              "pctbachdeg18_24              0\n",
              "pcths25_over                 0\n",
              "pctbachdeg25_over            0\n",
              "pctemployed16_over           0\n",
              "pctunemployed16_over         0\n",
              "pctprivatecoverage           0\n",
              "pctprivatecoveragealone    609\n",
              "pctempprivcoverage           0\n",
              "pctpubliccoverage            0\n",
              "pctpubliccoveragealone       0\n",
              "pctwhite                     0\n",
              "pctblack                     0\n",
              "pctasian                     0\n",
              "pctotherrace                 0\n",
              "pctmarriedhouseholds         0\n",
              "birthrate                    0\n",
              "dtype: int64"
            ]
          },
          "execution_count": 9,
          "metadata": {},
          "output_type": "execute_result"
        }
      ],
      "source": [
        "# Checking the missing values\n",
        "df.isnull().sum()"
      ]
    },
    {
      "cell_type": "code",
      "execution_count": null,
      "metadata": {
        "colab": {
          "base_uri": "https://localhost:8080/"
        },
        "id": "VtCZyJZ9TKa_",
        "outputId": "a4da4d39-9b5d-434e-95c5-490f131c6e1f"
      },
      "outputs": [],
      "source": [
        "#here calculating the median of pctprivatecoveragealone \n",
        "df.pctprivatecoveragealone.median()"
      ]
    },
    {
      "cell_type": "code",
      "execution_count": null,
      "metadata": {
        "colab": {
          "base_uri": "https://localhost:8080/",
          "height": 661
        },
        "id": "33KmvwtnTRa5",
        "outputId": "6cd71f69-346c-4e06-b10c-664e2b2ddc81"
      },
      "outputs": [],
      "source": [
        "#filling the NAN values \n",
        "df.pctprivatecoveragealone  = df.pctprivatecoveragealone .fillna(df.pctprivatecoveragealone.median())\n",
        "df"
      ]
    },
    {
      "cell_type": "code",
      "execution_count": null,
      "metadata": {
        "colab": {
          "base_uri": "https://localhost:8080/"
        },
        "id": "H5jwYZqeTbIu",
        "outputId": "59319324-d9dc-4b22-b976-c379db519e11"
      },
      "outputs": [],
      "source": [
        "# Checking the missing values\n",
        "df.isnull().sum()"
      ]
    },
    {
      "cell_type": "code",
      "execution_count": null,
      "metadata": {
        "colab": {
          "base_uri": "https://localhost:8080/"
        },
        "id": "sRxlRlh8V49g",
        "outputId": "779632a3-e95c-4b2f-faef-4042b50ac072"
      },
      "outputs": [],
      "source": [
        "df.info()               #Checking all information of data\n"
      ]
    },
    {
      "cell_type": "code",
      "execution_count": null,
      "metadata": {
        "colab": {
          "base_uri": "https://localhost:8080/",
          "height": 1000
        },
        "id": "c1vytwp6WgzW",
        "outputId": "7bdb51cd-b1de-4d92-e022-459013b35650"
      },
      "outputs": [],
      "source": [
        "import seaborn as sns\n",
        "plt.subplots(figsize=(30,30));\n",
        "sns.heatmap(df.corr(),annot=True)"
      ]
    },
    {
      "cell_type": "code",
      "execution_count": null,
      "metadata": {
        "colab": {
          "base_uri": "https://localhost:8080/",
          "height": 197
        },
        "id": "33bF8QBEXLP8",
        "outputId": "d71cb7df-58e1-400e-df54-1a5a0a4a4177"
      },
      "outputs": [],
      "source": [
        "sns.pairplot(data = df, y_vars=['target_deathrate'], x_vars=['incidencerate','povertypercent','pctpubliccoveragealone']);"
      ]
    },
    {
      "cell_type": "markdown",
      "metadata": {
        "id": "8M41x5BjYC-w"
      },
      "source": [
        "Multiple Regression Model Training"
      ]
    },
    {
      "cell_type": "code",
      "execution_count": null,
      "metadata": {
        "id": "NlgHlF_DYI-A"
      },
      "outputs": [],
      "source": [
        "X = df[['incidencerate','povertypercent','pctpubliccoveragealone']]\n",
        "y = df['target_deathrate']"
      ]
    },
    {
      "cell_type": "code",
      "execution_count": null,
      "metadata": {
        "id": "CLFwmg_tYW3W"
      },
      "outputs": [],
      "source": [
        "from sklearn.model_selection import train_test_split\n"
      ]
    },
    {
      "cell_type": "code",
      "execution_count": null,
      "metadata": {
        "id": "SQ9CJLxSYjZR"
      },
      "outputs": [],
      "source": [
        "X_train, X_test, y_train, y_test = train_test_split(X,y)"
      ]
    },
    {
      "cell_type": "code",
      "execution_count": null,
      "metadata": {
        "colab": {
          "base_uri": "https://localhost:8080/"
        },
        "id": "c1s-2Bn0ZP2E",
        "outputId": "ce565dd3-15fe-448c-955c-10d3cd701875"
      },
      "outputs": [],
      "source": [
        "reg =linear_model.LinearRegression()\n",
        "reg.fit(X_train, y_train)"
      ]
    },
    {
      "cell_type": "code",
      "execution_count": null,
      "metadata": {
        "colab": {
          "base_uri": "https://localhost:8080/"
        },
        "id": "W9Mse3HPZpd0",
        "outputId": "a39596f9-79b4-4a9f-f90a-b700b9512e77"
      },
      "outputs": [],
      "source": [
        "reg.score(X_train, y_train)"
      ]
    },
    {
      "cell_type": "code",
      "execution_count": null,
      "metadata": {
        "id": "ho6NJXCQZsxZ"
      },
      "outputs": [],
      "source": [
        "y_predict = reg.predict(X_test)"
      ]
    },
    {
      "cell_type": "code",
      "execution_count": null,
      "metadata": {
        "colab": {
          "base_uri": "https://localhost:8080/"
        },
        "id": "gie8WN1WZ3ez",
        "outputId": "69c46c6c-aa8d-467b-e829-8badc2a6314d"
      },
      "outputs": [],
      "source": [
        "reg=linear_model.LinearRegression()\n",
        "reg.fit(df[['incidencerate','povertypercent','pctpubliccoveragealone']],df.target_deathrate)"
      ]
    },
    {
      "cell_type": "code",
      "execution_count": null,
      "metadata": {
        "colab": {
          "base_uri": "https://localhost:8080/"
        },
        "id": "4f9p4HzraRdK",
        "outputId": "5246f131-804c-4518-e44d-5b0edc3e968c"
      },
      "outputs": [],
      "source": [
        "reg.coef_         #m1,m2,m3"
      ]
    },
    {
      "cell_type": "code",
      "execution_count": null,
      "metadata": {
        "colab": {
          "base_uri": "https://localhost:8080/"
        },
        "id": "GN-ivK_SaULA",
        "outputId": "2b6a18d4-909e-45e2-9adf-8f4b1d715655"
      },
      "outputs": [],
      "source": [
        "reg.intercept_   #b"
      ]
    },
    {
      "cell_type": "code",
      "execution_count": null,
      "metadata": {
        "colab": {
          "base_uri": "https://localhost:8080/"
        },
        "id": "0po44YP0aXcX",
        "outputId": "6547d029-849c-4bfc-a413-99b550788102"
      },
      "outputs": [],
      "source": [
        "#predicting a random value\n",
        "# incidencerate =520  povertypercent=30.1   pctpublicvoveragealone= 60.4\n",
        "\n",
        "reg.predict([[520,30.1,60.4]])"
      ]
    },
    {
      "cell_type": "code",
      "execution_count": null,
      "metadata": {
        "colab": {
          "base_uri": "https://localhost:8080/"
        },
        "id": "RpeMv2jkadCa",
        "outputId": "2f021b57-9a4f-4fdf-ab7d-712d11aa16b3"
      },
      "outputs": [],
      "source": [
        "#manually checking the predicted value is accurate or not making use of    m1*x1 + m2*x2 + m3*x3 + b formula\n",
        "\n",
        "0.2223114*520 + 0.9660897*30.1+1.15005384*60.4+40.575895009919094"
      ]
    }
  ],
  "metadata": {
    "colab": {
      "collapsed_sections": [],
      "name": "Untitled9.ipynb",
      "provenance": []
    },
    "kernelspec": {
      "display_name": "Python 3",
      "name": "python3"
    },
    "language_info": {
      "codemirror_mode": {
        "name": "ipython",
        "version": 3
      },
      "file_extension": ".py",
      "mimetype": "text/x-python",
      "name": "python",
      "nbconvert_exporter": "python",
      "pygments_lexer": "ipython3",
      "version": "3.10.4"
    }
  },
  "nbformat": 4,
  "nbformat_minor": 0
}
